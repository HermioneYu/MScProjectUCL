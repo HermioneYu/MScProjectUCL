{
 "cells": [
  {
   "cell_type": "code",
   "execution_count": 1,
   "metadata": {},
   "outputs": [
    {
     "name": "stdout",
     "output_type": "stream",
     "text": [
      "Oracle set description and methods.csv\n",
      "file.extension\n",
      "que_ans_linear_gram_1_2.csv\n",
      "try1_posts_all_que_in_vocab_without_len_limited_q_251324__a_361236.csv\n",
      "\n"
     ]
    }
   ],
   "source": [
    "import warnings\n",
    "warnings.filterwarnings('ignore')\n",
    "import csv\n",
    "import random\n",
    "import numpy as np\n",
    "\n",
    "\n",
    "import pandas as pd\n",
    "pd.options.display.max_columns = None\n",
    "pd.options.display.mpl_style = 'default'\n",
    "from nltk.tokenize import word_tokenize\n",
    "\n",
    "from subprocess import check_output\n",
    "print(check_output([\"ls\", \"/Users/Hermione/MasterUCL/MScProject/athena/data\"]).decode(\"utf8\"))"
   ]
  },
  {
   "cell_type": "code",
   "execution_count": 2,
   "metadata": {
    "collapsed": true
   },
   "outputs": [],
   "source": [
    "oracle_data = pd.read_csv(\"/Users/Hermione/MasterUCL/MScProject/athena/data/Oracle set description and methods.csv\")\n",
    "#df_data = pd.read_csv(\"/Users/Hermione/MasterUCL/MScProject/athena/data/try1_posts_all_que_in_vocab_without_len_limited_q_251324__a_361236.csv\")"
   ]
  },
  {
   "cell_type": "code",
   "execution_count": 3,
   "metadata": {},
   "outputs": [
    {
     "data": {
      "text/html": [
       "<div>\n",
       "<table border=\"1\" class=\"dataframe\">\n",
       "  <thead>\n",
       "    <tr style=\"text-align: right;\">\n",
       "      <th></th>\n",
       "      <th>context</th>\n",
       "      <th>utterance</th>\n",
       "    </tr>\n",
       "  </thead>\n",
       "  <tbody>\n",
       "    <tr>\n",
       "      <th>0</th>\n",
       "      <td>Get the role of this object.</td>\n",
       "      <td>protected AccessibleApplet()</td>\n",
       "    </tr>\n",
       "    <tr>\n",
       "      <th>1</th>\n",
       "      <td>Get the state of this object.</td>\n",
       "      <td>public AccessibleRole getAccessibleRole()</td>\n",
       "    </tr>\n",
       "    <tr>\n",
       "      <th>2</th>\n",
       "      <td>Constructs a new Applet. Note: Many methods in...</td>\n",
       "      <td>public Applet() throws HeadlessException</td>\n",
       "    </tr>\n",
       "    <tr>\n",
       "      <th>3</th>\n",
       "      <td>Sets this applet's stub. This is done automati...</td>\n",
       "      <td>public final void setStub(AppletStub stub)</td>\n",
       "    </tr>\n",
       "    <tr>\n",
       "      <th>4</th>\n",
       "      <td>Determines if this applet is active. An applet...</td>\n",
       "      <td>public boolean isActive()</td>\n",
       "    </tr>\n",
       "    <tr>\n",
       "      <th>5</th>\n",
       "      <td>Gets the URL of the document in which this app...</td>\n",
       "      <td>public URL getDocumentBase()</td>\n",
       "    </tr>\n",
       "    <tr>\n",
       "      <th>6</th>\n",
       "      <td>Gets the base URL. This is the URL of the dire...</td>\n",
       "      <td>public URL getCodeBase()</td>\n",
       "    </tr>\n",
       "    <tr>\n",
       "      <th>7</th>\n",
       "      <td>Returns the value of the named parameter in th...</td>\n",
       "      <td>public String getParameter(String name)</td>\n",
       "    </tr>\n",
       "    <tr>\n",
       "      <th>8</th>\n",
       "      <td>Determines this applet's context, which allows...</td>\n",
       "      <td>public AppletContext getAppletContext()</td>\n",
       "    </tr>\n",
       "    <tr>\n",
       "      <th>9</th>\n",
       "      <td>Requests that this applet be resized.</td>\n",
       "      <td>public void resize(int width, int height)</td>\n",
       "    </tr>\n",
       "    <tr>\n",
       "      <th>10</th>\n",
       "      <td>Requests that this applet be resized.</td>\n",
       "      <td>public void resize(Dimension d)</td>\n",
       "    </tr>\n",
       "    <tr>\n",
       "      <th>11</th>\n",
       "      <td>Indicates if this container is a validate root...</td>\n",
       "      <td>public boolean isValidateRoot()</td>\n",
       "    </tr>\n",
       "    <tr>\n",
       "      <th>12</th>\n",
       "      <td>Requests that the argument string be displayed...</td>\n",
       "      <td>public void showStatus(String msg)</td>\n",
       "    </tr>\n",
       "    <tr>\n",
       "      <th>13</th>\n",
       "      <td>Returns an Image object that can then be paint...</td>\n",
       "      <td>public Image getImage(URL url)</td>\n",
       "    </tr>\n",
       "    <tr>\n",
       "      <th>14</th>\n",
       "      <td>Returns an Image object that can then be paint...</td>\n",
       "      <td>public Image getImage(URL url, String name)</td>\n",
       "    </tr>\n",
       "    <tr>\n",
       "      <th>15</th>\n",
       "      <td>Get an audio clip from the given URL.</td>\n",
       "      <td>public static final AudioClip newAudioClip(URL...</td>\n",
       "    </tr>\n",
       "    <tr>\n",
       "      <th>16</th>\n",
       "      <td>Returns the AudioClip object specified by the ...</td>\n",
       "      <td>public AudioClip getAudioClip(URL url)</td>\n",
       "    </tr>\n",
       "    <tr>\n",
       "      <th>17</th>\n",
       "      <td>Returns the AudioClip object specified by the ...</td>\n",
       "      <td>public AudioClip getAudioClip(URL url, String ...</td>\n",
       "    </tr>\n",
       "    <tr>\n",
       "      <th>18</th>\n",
       "      <td>Returns information about this applet. An appl...</td>\n",
       "      <td>public String getAppletInfo()</td>\n",
       "    </tr>\n",
       "    <tr>\n",
       "      <th>19</th>\n",
       "      <td>Gets the locale of the applet. It allows the a...</td>\n",
       "      <td>public Locale getLocale()</td>\n",
       "    </tr>\n",
       "    <tr>\n",
       "      <th>20</th>\n",
       "      <td>Returns information about the parameters that ...</td>\n",
       "      <td>public String[][] getParameterInfo()</td>\n",
       "    </tr>\n",
       "    <tr>\n",
       "      <th>21</th>\n",
       "      <td>Plays the audio clip at the specified absolute...</td>\n",
       "      <td>public void play(URL url)</td>\n",
       "    </tr>\n",
       "    <tr>\n",
       "      <th>22</th>\n",
       "      <td>Plays the audio clip given the URL and a speci...</td>\n",
       "      <td>public void play(URL url, String name)</td>\n",
       "    </tr>\n",
       "    <tr>\n",
       "      <th>23</th>\n",
       "      <td>Called by the browser or applet viewer to info...</td>\n",
       "      <td>public void init()</td>\n",
       "    </tr>\n",
       "    <tr>\n",
       "      <th>24</th>\n",
       "      <td>Called by the browser or applet viewer to info...</td>\n",
       "      <td>public void start()</td>\n",
       "    </tr>\n",
       "    <tr>\n",
       "      <th>25</th>\n",
       "      <td>Called by the browser or applet viewer to info...</td>\n",
       "      <td>public void stop()</td>\n",
       "    </tr>\n",
       "    <tr>\n",
       "      <th>26</th>\n",
       "      <td>Called by the browser or applet viewer to info...</td>\n",
       "      <td>public void destroy()</td>\n",
       "    </tr>\n",
       "    <tr>\n",
       "      <th>27</th>\n",
       "      <td>Gets the AccessibleContext associated with thi...</td>\n",
       "      <td>public AccessibleContext getAccessibleContext()</td>\n",
       "    </tr>\n",
       "    <tr>\n",
       "      <th>28</th>\n",
       "      <td>Creates an audio clip.</td>\n",
       "      <td>AudioClip getAudioClip(URL url)</td>\n",
       "    </tr>\n",
       "    <tr>\n",
       "      <th>29</th>\n",
       "      <td>Returns an Image object that can then be paint...</td>\n",
       "      <td>Image getImage(URL url)</td>\n",
       "    </tr>\n",
       "    <tr>\n",
       "      <th>...</th>\n",
       "      <td>...</td>\n",
       "      <td>...</td>\n",
       "    </tr>\n",
       "    <tr>\n",
       "      <th>46477</th>\n",
       "      <td>Returns the value of the parameter byte P1.</td>\n",
       "      <td>public int getP1()</td>\n",
       "    </tr>\n",
       "    <tr>\n",
       "      <th>46478</th>\n",
       "      <td>Returns the value of the parameter byte P2.</td>\n",
       "      <td>public int getP2()</td>\n",
       "    </tr>\n",
       "    <tr>\n",
       "      <th>46479</th>\n",
       "      <td>Returns the number of data bytes in the comman...</td>\n",
       "      <td>public int getNc()</td>\n",
       "    </tr>\n",
       "    <tr>\n",
       "      <th>46480</th>\n",
       "      <td>Returns a copy of the data bytes in the comman...</td>\n",
       "      <td>public byte[] getData()</td>\n",
       "    </tr>\n",
       "    <tr>\n",
       "      <th>46481</th>\n",
       "      <td>Returns the maximum number of expected data by...</td>\n",
       "      <td>public int getNe()</td>\n",
       "    </tr>\n",
       "    <tr>\n",
       "      <th>46482</th>\n",
       "      <td>Returns a copy of the bytes in this APDU.</td>\n",
       "      <td>public byte[] getBytes()</td>\n",
       "    </tr>\n",
       "    <tr>\n",
       "      <th>46483</th>\n",
       "      <td>Returns a string representation of this comman...</td>\n",
       "      <td>public String toString()</td>\n",
       "    </tr>\n",
       "    <tr>\n",
       "      <th>46484</th>\n",
       "      <td>Compares the specified object with this comman...</td>\n",
       "      <td>public boolean equals(Object obj)</td>\n",
       "    </tr>\n",
       "    <tr>\n",
       "      <th>46485</th>\n",
       "      <td>Returns the hash code value for this command A...</td>\n",
       "      <td>public int hashCode()</td>\n",
       "    </tr>\n",
       "    <tr>\n",
       "      <th>46486</th>\n",
       "      <td>Constructs a ResponseAPDU from a byte array co...</td>\n",
       "      <td>public ResponseAPDU(byte[] apdu)</td>\n",
       "    </tr>\n",
       "    <tr>\n",
       "      <th>46487</th>\n",
       "      <td>Returns the number of data bytes in the respon...</td>\n",
       "      <td>public int getNr()</td>\n",
       "    </tr>\n",
       "    <tr>\n",
       "      <th>46488</th>\n",
       "      <td>Returns a copy of the data bytes in the respon...</td>\n",
       "      <td>public byte[] getData()</td>\n",
       "    </tr>\n",
       "    <tr>\n",
       "      <th>46489</th>\n",
       "      <td>Returns the value of the status byte SW1 as a ...</td>\n",
       "      <td>public int getSW1()</td>\n",
       "    </tr>\n",
       "    <tr>\n",
       "      <th>46490</th>\n",
       "      <td>Returns the value of the status byte SW2 as a ...</td>\n",
       "      <td>public int getSW2()</td>\n",
       "    </tr>\n",
       "    <tr>\n",
       "      <th>46491</th>\n",
       "      <td>Returns the value of the status bytes SW1 and ...</td>\n",
       "      <td>public int getSW()</td>\n",
       "    </tr>\n",
       "    <tr>\n",
       "      <th>46492</th>\n",
       "      <td>Returns a copy of the bytes in this APDU.</td>\n",
       "      <td>public byte[] getBytes()</td>\n",
       "    </tr>\n",
       "    <tr>\n",
       "      <th>46493</th>\n",
       "      <td>Returns a string representation of this respon...</td>\n",
       "      <td>public String toString()</td>\n",
       "    </tr>\n",
       "    <tr>\n",
       "      <th>46494</th>\n",
       "      <td>Compares the specified object with this respon...</td>\n",
       "      <td>public boolean equals(Object obj)</td>\n",
       "    </tr>\n",
       "    <tr>\n",
       "      <th>46495</th>\n",
       "      <td>Returns the hash code value for this response ...</td>\n",
       "      <td>public int hashCode()</td>\n",
       "    </tr>\n",
       "    <tr>\n",
       "      <th>46496</th>\n",
       "      <td>Get the default TerminalFactory type. It is de...</td>\n",
       "      <td>public static String getDefaultType()</td>\n",
       "    </tr>\n",
       "    <tr>\n",
       "      <th>46497</th>\n",
       "      <td>Returns the default TerminalFactory instance. ...</td>\n",
       "      <td>public static TerminalFactory getDefault()</td>\n",
       "    </tr>\n",
       "    <tr>\n",
       "      <th>46498</th>\n",
       "      <td>Returns a TerminalFactory of the specified typ...</td>\n",
       "      <td>public static TerminalFactory getInstance(Stri...</td>\n",
       "    </tr>\n",
       "    <tr>\n",
       "      <th>46499</th>\n",
       "      <td>Returns a TerminalFactory of the specified typ...</td>\n",
       "      <td>public static TerminalFactory getInstance(Stri...</td>\n",
       "    </tr>\n",
       "    <tr>\n",
       "      <th>46500</th>\n",
       "      <td>Returns a TerminalFactory of the specified typ...</td>\n",
       "      <td>public static TerminalFactory getInstance(Stri...</td>\n",
       "    </tr>\n",
       "    <tr>\n",
       "      <th>46501</th>\n",
       "      <td>Returns the provider of this TerminalFactory.</td>\n",
       "      <td>public Provider getProvider()</td>\n",
       "    </tr>\n",
       "    <tr>\n",
       "      <th>46502</th>\n",
       "      <td>Returns the type of this TerminalFactory. This...</td>\n",
       "      <td>public String getType()</td>\n",
       "    </tr>\n",
       "    <tr>\n",
       "      <th>46503</th>\n",
       "      <td>Returns a new CardTerminals object encapsulati...</td>\n",
       "      <td>public CardTerminals terminals()</td>\n",
       "    </tr>\n",
       "    <tr>\n",
       "      <th>46504</th>\n",
       "      <td>Returns a string representation of this Termin...</td>\n",
       "      <td>public String toString()</td>\n",
       "    </tr>\n",
       "    <tr>\n",
       "      <th>46505</th>\n",
       "      <td>Constructs a new TerminalFactorySpi object. Th...</td>\n",
       "      <td>protected TerminalFactorySpi()</td>\n",
       "    </tr>\n",
       "    <tr>\n",
       "      <th>46506</th>\n",
       "      <td>Returns the CardTerminals created by this fact...</td>\n",
       "      <td>protected abstract CardTerminals engineTermina...</td>\n",
       "    </tr>\n",
       "  </tbody>\n",
       "</table>\n",
       "<p>46507 rows × 2 columns</p>\n",
       "</div>"
      ],
      "text/plain": [
       "                                                 context  \\\n",
       "0                           Get the role of this object.   \n",
       "1                          Get the state of this object.   \n",
       "2      Constructs a new Applet. Note: Many methods in...   \n",
       "3      Sets this applet's stub. This is done automati...   \n",
       "4      Determines if this applet is active. An applet...   \n",
       "5      Gets the URL of the document in which this app...   \n",
       "6      Gets the base URL. This is the URL of the dire...   \n",
       "7      Returns the value of the named parameter in th...   \n",
       "8      Determines this applet's context, which allows...   \n",
       "9                  Requests that this applet be resized.   \n",
       "10                 Requests that this applet be resized.   \n",
       "11     Indicates if this container is a validate root...   \n",
       "12     Requests that the argument string be displayed...   \n",
       "13     Returns an Image object that can then be paint...   \n",
       "14     Returns an Image object that can then be paint...   \n",
       "15                 Get an audio clip from the given URL.   \n",
       "16     Returns the AudioClip object specified by the ...   \n",
       "17     Returns the AudioClip object specified by the ...   \n",
       "18     Returns information about this applet. An appl...   \n",
       "19     Gets the locale of the applet. It allows the a...   \n",
       "20     Returns information about the parameters that ...   \n",
       "21     Plays the audio clip at the specified absolute...   \n",
       "22     Plays the audio clip given the URL and a speci...   \n",
       "23     Called by the browser or applet viewer to info...   \n",
       "24     Called by the browser or applet viewer to info...   \n",
       "25     Called by the browser or applet viewer to info...   \n",
       "26     Called by the browser or applet viewer to info...   \n",
       "27     Gets the AccessibleContext associated with thi...   \n",
       "28                                Creates an audio clip.   \n",
       "29     Returns an Image object that can then be paint...   \n",
       "...                                                  ...   \n",
       "46477        Returns the value of the parameter byte P1.   \n",
       "46478        Returns the value of the parameter byte P2.   \n",
       "46479  Returns the number of data bytes in the comman...   \n",
       "46480  Returns a copy of the data bytes in the comman...   \n",
       "46481  Returns the maximum number of expected data by...   \n",
       "46482          Returns a copy of the bytes in this APDU.   \n",
       "46483  Returns a string representation of this comman...   \n",
       "46484  Compares the specified object with this comman...   \n",
       "46485  Returns the hash code value for this command A...   \n",
       "46486  Constructs a ResponseAPDU from a byte array co...   \n",
       "46487  Returns the number of data bytes in the respon...   \n",
       "46488  Returns a copy of the data bytes in the respon...   \n",
       "46489  Returns the value of the status byte SW1 as a ...   \n",
       "46490  Returns the value of the status byte SW2 as a ...   \n",
       "46491  Returns the value of the status bytes SW1 and ...   \n",
       "46492          Returns a copy of the bytes in this APDU.   \n",
       "46493  Returns a string representation of this respon...   \n",
       "46494  Compares the specified object with this respon...   \n",
       "46495  Returns the hash code value for this response ...   \n",
       "46496  Get the default TerminalFactory type. It is de...   \n",
       "46497  Returns the default TerminalFactory instance. ...   \n",
       "46498  Returns a TerminalFactory of the specified typ...   \n",
       "46499  Returns a TerminalFactory of the specified typ...   \n",
       "46500  Returns a TerminalFactory of the specified typ...   \n",
       "46501      Returns the provider of this TerminalFactory.   \n",
       "46502  Returns the type of this TerminalFactory. This...   \n",
       "46503  Returns a new CardTerminals object encapsulati...   \n",
       "46504  Returns a string representation of this Termin...   \n",
       "46505  Constructs a new TerminalFactorySpi object. Th...   \n",
       "46506  Returns the CardTerminals created by this fact...   \n",
       "\n",
       "                                               utterance  \n",
       "0                           protected AccessibleApplet()  \n",
       "1              public AccessibleRole getAccessibleRole()  \n",
       "2               public Applet() throws HeadlessException  \n",
       "3             public final void setStub(AppletStub stub)  \n",
       "4                              public boolean isActive()  \n",
       "5                           public URL getDocumentBase()  \n",
       "6                               public URL getCodeBase()  \n",
       "7                public String getParameter(String name)  \n",
       "8                public AppletContext getAppletContext()  \n",
       "9              public void resize(int width, int height)  \n",
       "10                       public void resize(Dimension d)  \n",
       "11                       public boolean isValidateRoot()  \n",
       "12                    public void showStatus(String msg)  \n",
       "13                        public Image getImage(URL url)  \n",
       "14           public Image getImage(URL url, String name)  \n",
       "15     public static final AudioClip newAudioClip(URL...  \n",
       "16                public AudioClip getAudioClip(URL url)  \n",
       "17     public AudioClip getAudioClip(URL url, String ...  \n",
       "18                         public String getAppletInfo()  \n",
       "19                             public Locale getLocale()  \n",
       "20                  public String[][] getParameterInfo()  \n",
       "21                             public void play(URL url)  \n",
       "22                public void play(URL url, String name)  \n",
       "23                                    public void init()  \n",
       "24                                   public void start()  \n",
       "25                                    public void stop()  \n",
       "26                                 public void destroy()  \n",
       "27       public AccessibleContext getAccessibleContext()  \n",
       "28                       AudioClip getAudioClip(URL url)  \n",
       "29                               Image getImage(URL url)  \n",
       "...                                                  ...  \n",
       "46477                                 public int getP1()  \n",
       "46478                                 public int getP2()  \n",
       "46479                                 public int getNc()  \n",
       "46480                            public byte[] getData()  \n",
       "46481                                 public int getNe()  \n",
       "46482                           public byte[] getBytes()  \n",
       "46483                           public String toString()  \n",
       "46484                  public boolean equals(Object obj)  \n",
       "46485                              public int hashCode()  \n",
       "46486                   public ResponseAPDU(byte[] apdu)  \n",
       "46487                                 public int getNr()  \n",
       "46488                            public byte[] getData()  \n",
       "46489                                public int getSW1()  \n",
       "46490                                public int getSW2()  \n",
       "46491                                 public int getSW()  \n",
       "46492                           public byte[] getBytes()  \n",
       "46493                           public String toString()  \n",
       "46494                  public boolean equals(Object obj)  \n",
       "46495                              public int hashCode()  \n",
       "46496              public static String getDefaultType()  \n",
       "46497         public static TerminalFactory getDefault()  \n",
       "46498  public static TerminalFactory getInstance(Stri...  \n",
       "46499  public static TerminalFactory getInstance(Stri...  \n",
       "46500  public static TerminalFactory getInstance(Stri...  \n",
       "46501                      public Provider getProvider()  \n",
       "46502                            public String getType()  \n",
       "46503                   public CardTerminals terminals()  \n",
       "46504                           public String toString()  \n",
       "46505                     protected TerminalFactorySpi()  \n",
       "46506  protected abstract CardTerminals engineTermina...  \n",
       "\n",
       "[46507 rows x 2 columns]"
      ]
     },
     "execution_count": 3,
     "metadata": {},
     "output_type": "execute_result"
    }
   ],
   "source": [
    "oracle_data"
   ]
  },
  {
   "cell_type": "code",
   "execution_count": 5,
   "metadata": {
    "collapsed": true
   },
   "outputs": [],
   "source": [
    "train_source = oracle_data.context\n",
    "train_target = oracle_data.utterance\n",
    "dev_source = oracle_data.context\n",
    "dev_target = oracle_data.utterance\n",
    "test_source = oracle_data.context\n",
    "test_target = oracle_data.utterance"
   ]
  },
  {
   "cell_type": "code",
   "execution_count": 14,
   "metadata": {
    "collapsed": true
   },
   "outputs": [],
   "source": [
    "for i in range(len(train_source)):\n",
    "    train_source[i] = re.sub(r\"(?<![A-Z])(?<!^)([A-Z])\",r\" \\1\", train_source[i])"
   ]
  },
  {
   "cell_type": "code",
   "execution_count": 17,
   "metadata": {
    "collapsed": true
   },
   "outputs": [],
   "source": [
    "train_source.loc[~df.str.contains(r' \\(')] = train_source.str.replace('(',' ( ')\n",
    "train_source.loc[~df.str.contains(r' \\)')] = train_source.str.replace(')',' ) ')\n",
    "train_source.loc[~df.str.contains(r' \\,')] = train_source.str.replace(',',' , ')\n",
    "train_source.loc[~df.str.contains(r' \\_')] = train_source.str.replace('_',' _ ')\n",
    "train_source.loc[~df.str.contains(r' \\[')] = train_source.str.replace('[',' [ ')\n",
    "train_source.loc[~df.str.contains(r' \\]')] = train_source.str.replace(']',' ] ')\n",
    "train_source.loc[~df.str.contains(r' \\<')] = train_source.str.replace('<',' < ')\n",
    "train_source.loc[~df.str.contains(r' \\>')] = train_source.str.replace('>',' > ')\n",
    "train_source.loc[~df.str.contains(r' \\-')] = train_source.str.replace('-',' - ')"
   ]
  },
  {
   "cell_type": "code",
   "execution_count": 18,
   "metadata": {},
   "outputs": [
    {
     "data": {
      "text/plain": [
       "0                             Get the role of this object.\n",
       "1                            Get the state of this object.\n",
       "2        Constructs a new  Applet.  Note:  Many methods...\n",
       "3        Sets this applet's stub.  This is done automat...\n",
       "4        Determines if this applet is active.  An apple...\n",
       "5        Gets the  URL of the document in which this ap...\n",
       "6        Gets the base  URL.  This is the  URL of the d...\n",
       "7        Returns the value of the named parameter in th...\n",
       "8        Determines this applet's context ,  which allo...\n",
       "9                    Requests that this applet be resized.\n",
       "10                   Requests that this applet be resized.\n",
       "11       Indicates if this container is a validate root...\n",
       "12       Requests that the argument string be displayed...\n",
       "13       Returns an  Image object that can then be pain...\n",
       "14       Returns an  Image object that can then be pain...\n",
       "15                  Get an audio clip from the given  URL.\n",
       "16       Returns the  Audio Clip object specified by th...\n",
       "17       Returns the  Audio Clip object specified by th...\n",
       "18       Returns information about this applet.  An app...\n",
       "19       Gets the locale of the applet.  It allows the ...\n",
       "20       Returns information about the parameters that ...\n",
       "21       Plays the audio clip at the specified absolute...\n",
       "22       Plays the audio clip given the  URL and a spec...\n",
       "23       Called by the browser or applet viewer to info...\n",
       "24       Called by the browser or applet viewer to info...\n",
       "25       Called by the browser or applet viewer to info...\n",
       "26       Called by the browser or applet viewer to info...\n",
       "27       Gets the  Accessible Context associated with t...\n",
       "28                                  Creates an audio clip.\n",
       "29       Returns an  Image object that can then be pain...\n",
       "                               ...                        \n",
       "46477         Returns the value of the parameter byte  P1.\n",
       "46478         Returns the value of the parameter byte  P2.\n",
       "46479    Returns the number of data bytes in the comman...\n",
       "46480    Returns a copy of the data bytes in the comman...\n",
       "46481    Returns the maximum number of expected data by...\n",
       "46482           Returns a copy of the bytes in this  APDU.\n",
       "46483    Returns a string representation of this comman...\n",
       "46484    Compares the specified object with this comman...\n",
       "46485    Returns the hash code value for this command  ...\n",
       "46486    Constructs a  Response APDU from a byte array ...\n",
       "46487    Returns the number of data bytes in the respon...\n",
       "46488    Returns a copy of the data bytes in the respon...\n",
       "46489    Returns the value of the status byte  SW1 as a...\n",
       "46490    Returns the value of the status byte  SW2 as a...\n",
       "46491    Returns the value of the status bytes  SW1 and...\n",
       "46492           Returns a copy of the bytes in this  APDU.\n",
       "46493    Returns a string representation of this respon...\n",
       "46494    Compares the specified object with this respon...\n",
       "46495    Returns the hash code value for this response ...\n",
       "46496    Get the default  Terminal Factory type.  It is...\n",
       "46497    Returns the default  Terminal Factory instance...\n",
       "46498    Returns a  Terminal Factory of the specified t...\n",
       "46499    Returns a  Terminal Factory of the specified t...\n",
       "46500    Returns a  Terminal Factory of the specified t...\n",
       "46501      Returns the provider of this  Terminal Factory.\n",
       "46502    Returns the type of this  Terminal Factory.  T...\n",
       "46503    Returns a new  Card Terminals object encapsula...\n",
       "46504    Returns a string representation of this  Termi...\n",
       "46505    Constructs a new  Terminal Factory Spi object....\n",
       "46506    Returns the  Card Terminals created by this fa...\n",
       "Name: context, dtype: object"
      ]
     },
     "execution_count": 18,
     "metadata": {},
     "output_type": "execute_result"
    }
   ],
   "source": [
    "train_source"
   ]
  },
  {
   "cell_type": "code",
   "execution_count": 19,
   "metadata": {
    "collapsed": true
   },
   "outputs": [],
   "source": [
    "train_source.to_csv(r'/Users/Hermione/nmt_data/oracledata_reverse/train/sourcesall.txt', header=False, index=False,sep = \"\\t\")"
   ]
  },
  {
   "cell_type": "code",
   "execution_count": 7,
   "metadata": {
    "collapsed": true
   },
   "outputs": [],
   "source": [
    "df = train_target\n",
    "df.loc[~df.str.contains(r' \\( ')] = df.str.replace('(',' ( ')\n",
    "df.loc[~df.str.contains(r' \\)')] = df.str.replace(')',' ) ')\n",
    "df.loc[~df.str.contains(r' \\,')] = df.str.replace(',',' , ')\n",
    "df.loc[~df.str.contains(r' \\_')] = df.str.replace('_',' _ ')\n",
    "df.loc[~df.str.contains(r' \\[')] = df.str.replace('[',' [ ')\n",
    "df.loc[~df.str.contains(r' \\]')] = df.str.replace(']',' ] ')\n",
    "df.loc[~df.str.contains(r' \\<')] = df.str.replace('<',' < ')\n",
    "df.loc[~df.str.contains(r' \\>')] = df.str.replace('>',' > ')\n",
    "\n"
   ]
  },
  {
   "cell_type": "code",
   "execution_count": 8,
   "metadata": {},
   "outputs": [
    {
     "data": {
      "text/plain": [
       "0                           protected AccessibleApplet ( )\n",
       "1              public AccessibleRole getAccessibleRole ( )\n",
       "2               public Applet ( ) throws HeadlessException\n",
       "3           public final void setStub ( AppletStub stub ) \n",
       "4                              public boolean isActive ( )\n",
       "5                           public URL getDocumentBase ( )\n",
       "6                               public URL getCodeBase ( )\n",
       "7              public String getParameter ( String name ) \n",
       "8                public AppletContext getAppletContext ( )\n",
       "9          public void resize ( int width ,  int height ) \n",
       "10                     public void resize ( Dimension d ) \n",
       "11                       public boolean isValidateRoot ( )\n",
       "12                  public void showStatus ( String msg ) \n",
       "13                      public Image getImage ( URL url ) \n",
       "14       public Image getImage ( URL url ,  String name ) \n",
       "15       public static final AudioClip newAudioClip ( U...\n",
       "16              public AudioClip getAudioClip ( URL url ) \n",
       "17       public AudioClip getAudioClip ( URL url ,  Str...\n",
       "18                         public String getAppletInfo ( )\n",
       "19                             public Locale getLocale ( )\n",
       "20              public String [ ] [ ] getParameterInfo ( )\n",
       "21                           public void play ( URL url ) \n",
       "22            public void play ( URL url ,  String name ) \n",
       "23                                    public void init ( )\n",
       "24                                   public void start ( )\n",
       "25                                    public void stop ( )\n",
       "26                                 public void destroy ( )\n",
       "27       public AccessibleContext getAccessibleContext ( )\n",
       "28                     AudioClip getAudioClip ( URL url ) \n",
       "29                             Image getImage ( URL url ) \n",
       "                               ...                        \n",
       "46477                                 public int getP1 ( )\n",
       "46478                                 public int getP2 ( )\n",
       "46479                                 public int getNc ( )\n",
       "46480                          public byte [ ] getData ( )\n",
       "46481                                 public int getNe ( )\n",
       "46482                         public byte [ ] getBytes ( )\n",
       "46483                           public String toString ( )\n",
       "46484                public boolean equals ( Object obj ) \n",
       "46485                              public int hashCode ( )\n",
       "46486               public ResponseAPDU ( byte [ ] apdu ) \n",
       "46487                                 public int getNr ( )\n",
       "46488                          public byte [ ] getData ( )\n",
       "46489                                public int getSW1 ( )\n",
       "46490                                public int getSW2 ( )\n",
       "46491                                 public int getSW ( )\n",
       "46492                         public byte [ ] getBytes ( )\n",
       "46493                           public String toString ( )\n",
       "46494                public boolean equals ( Object obj ) \n",
       "46495                              public int hashCode ( )\n",
       "46496              public static String getDefaultType ( )\n",
       "46497         public static TerminalFactory getDefault ( )\n",
       "46498    public static TerminalFactory getInstance ( St...\n",
       "46499    public static TerminalFactory getInstance ( St...\n",
       "46500    public static TerminalFactory getInstance ( St...\n",
       "46501                      public Provider getProvider ( )\n",
       "46502                            public String getType ( )\n",
       "46503                   public CardTerminals terminals ( )\n",
       "46504                           public String toString ( )\n",
       "46505                     protected TerminalFactorySpi ( )\n",
       "46506    protected abstract CardTerminals engineTermina...\n",
       "Name: utterance, dtype: object"
      ]
     },
     "execution_count": 8,
     "metadata": {},
     "output_type": "execute_result"
    }
   ],
   "source": [
    "df"
   ]
  },
  {
   "cell_type": "code",
   "execution_count": 9,
   "metadata": {
    "collapsed": true
   },
   "outputs": [],
   "source": [
    "import re\n",
    "for i in range(len(df)):\n",
    "    df[i] = re.sub(r\"(?<![A-Z])(?<!^)([A-Z])\",r\" \\1\", df[i])"
   ]
  },
  {
   "cell_type": "code",
   "execution_count": 13,
   "metadata": {},
   "outputs": [],
   "source": [
    "test200 = pd.concat([train_source,df],axis = 1)\n",
    "test_old_small = test200.sample(200)\n",
    "test_source_old_small = test_old_small[\"context\"]\n",
    "test_target_old_small = test_old_small[\"utterance\"]\n",
    "test_source_old_small.to_csv(r'/Users/Hermione/nmt_data/oracledata_reverse/dev/sourcesall200.txt', header=False, index=False,sep = \"\\t\")\n",
    "test_target_old_small.to_csv(r'/Users/Hermione/nmt_data/oracledata_reverse/dev/targetsall200.txt', header=False, index=False,sep = \"\\t\")\n"
   ]
  },
  {
   "cell_type": "code",
   "execution_count": 3,
   "metadata": {
    "collapsed": true
   },
   "outputs": [],
   "source": [
    "train_source = oracle_data.context[0:10000]"
   ]
  },
  {
   "cell_type": "code",
   "execution_count": 4,
   "metadata": {
    "collapsed": true
   },
   "outputs": [],
   "source": [
    "train_target = oracle_data.utterance[0:10000]"
   ]
  },
  {
   "cell_type": "code",
   "execution_count": 5,
   "metadata": {
    "collapsed": true
   },
   "outputs": [],
   "source": [
    "dev_source = oracle_data.context[10000:11000]"
   ]
  },
  {
   "cell_type": "code",
   "execution_count": 6,
   "metadata": {
    "collapsed": true
   },
   "outputs": [],
   "source": [
    "dev_target = oracle_data.utterance[10000:11000]"
   ]
  },
  {
   "cell_type": "code",
   "execution_count": 7,
   "metadata": {
    "collapsed": true
   },
   "outputs": [],
   "source": [
    "test_source = oracle_data.context[11000:12000]"
   ]
  },
  {
   "cell_type": "code",
   "execution_count": 8,
   "metadata": {
    "collapsed": true
   },
   "outputs": [],
   "source": [
    "test_target = oracle_data.utterance[11000:12000]"
   ]
  },
  {
   "cell_type": "code",
   "execution_count": null,
   "metadata": {
    "collapsed": true
   },
   "outputs": [],
   "source": [
    "train_source\n"
   ]
  },
  {
   "cell_type": "code",
   "execution_count": 9,
   "metadata": {
    "collapsed": true
   },
   "outputs": [],
   "source": [
    "train_source.to_csv(r'/Users/Hermione/nmt_data/oracledata_reverse/train/sources.txt', header=False, index=False,sep = \"\\t\")"
   ]
  },
  {
   "cell_type": "code",
   "execution_count": 10,
   "metadata": {
    "collapsed": true
   },
   "outputs": [],
   "source": [
    "train_target.to_csv(r'/Users/Hermione/nmt_data/oracledata_reverse/train/targets.txt', header=False, index=False,sep = \"\\t\")"
   ]
  },
  {
   "cell_type": "code",
   "execution_count": 11,
   "metadata": {
    "collapsed": true
   },
   "outputs": [],
   "source": [
    "dev_source.to_csv(r'/Users/Hermione/nmt_data/oracledata_reverse/dev/sources.txt', header=False, index=False,sep = \"\\t\")"
   ]
  },
  {
   "cell_type": "code",
   "execution_count": 12,
   "metadata": {
    "collapsed": true
   },
   "outputs": [],
   "source": [
    "dev_target.to_csv(r'/Users/Hermione/nmt_data/oracledata_reverse/dev/targets.txt', header=False, index=False,sep = \"\\t\")"
   ]
  },
  {
   "cell_type": "code",
   "execution_count": 13,
   "metadata": {
    "collapsed": true
   },
   "outputs": [],
   "source": [
    "test_source.to_csv(r'/Users/Hermione/nmt_data/oracledata_reverse/test/sources.txt', header=False, index=False,sep = \"\\t\")"
   ]
  },
  {
   "cell_type": "code",
   "execution_count": 14,
   "metadata": {
    "collapsed": true
   },
   "outputs": [],
   "source": [
    "test_target.to_csv(r'/Users/Hermione/nmt_data/oracledata_reverse/test/targets.txt', header=False, index=False,sep = \"\\t\")"
   ]
  },
  {
   "cell_type": "code",
   "execution_count": 15,
   "metadata": {
    "collapsed": true
   },
   "outputs": [],
   "source": [
    "test = pd.concat([train_source,train_target],axis = 1)"
   ]
  },
  {
   "cell_type": "code",
   "execution_count": null,
   "metadata": {
    "collapsed": true
   },
   "outputs": [],
   "source": [
    "test"
   ]
  },
  {
   "cell_type": "code",
   "execution_count": 16,
   "metadata": {
    "collapsed": true
   },
   "outputs": [],
   "source": [
    "test_old = test.sample(1000)\n"
   ]
  },
  {
   "cell_type": "code",
   "execution_count": 17,
   "metadata": {
    "collapsed": true
   },
   "outputs": [],
   "source": [
    "test_source_old = test_old[\"context\"]\n",
    "test_target_old = test_old[\"utterance\"]"
   ]
  },
  {
   "cell_type": "code",
   "execution_count": 18,
   "metadata": {
    "collapsed": true
   },
   "outputs": [],
   "source": [
    "test_source_old.to_csv(r'/Users/Hermione/nmt_data/oracledata_reverse/test/sources1.txt', header=False, index=False,sep = \"\\t\")\n",
    "test_target_old.to_csv(r'/Users/Hermione/nmt_data/oracledata_reverse/test/targets1.txt', header=False, index=False,sep = \"\\t\")"
   ]
  },
  {
   "cell_type": "code",
   "execution_count": 77,
   "metadata": {
    "collapsed": true
   },
   "outputs": [],
   "source": [
    "train_source_small = oracle_data.context[0:200]\n",
    "train_target_small = oracle_data.utterance[0:200]\n",
    "train_source_small.to_csv(r'/Users/Hermione/nmt_data/oracledata_reverse/train/sourcessmall200.txt', header=False, index=False,sep = \"\\t\")\n",
    "train_target_small.to_csv(r'/Users/Hermione/nmt_data/oracledata_reverse/train/targetssmall200.txt', header=False, index=False,sep = \"\\t\")"
   ]
  },
  {
   "cell_type": "code",
   "execution_count": 55,
   "metadata": {
    "collapsed": true
   },
   "outputs": [],
   "source": [
    "df = train_target_small\n",
    "df.loc[~df.str.contains(r' \\( ')] = df.str.replace('(',' ( ')\n",
    "df.loc[~df.str.contains(r' \\)')] = df.str.replace(')',' ) ')\n",
    "df.loc[~df.str.contains(r' \\,')] = df.str.replace(',',' , ')"
   ]
  },
  {
   "cell_type": "code",
   "execution_count": 63,
   "metadata": {},
   "outputs": [
    {
     "data": {
      "text/plain": [
       "'public AccessibleRole getAccessibleRole ( ) '"
      ]
     },
     "execution_count": 63,
     "metadata": {},
     "output_type": "execute_result"
    }
   ],
   "source": [
    "df[1]"
   ]
  },
  {
   "cell_type": "code",
   "execution_count": 74,
   "metadata": {
    "collapsed": true
   },
   "outputs": [],
   "source": [
    "import re\n",
    "for i in range(len(df)):\n",
    "    df[i] = re.sub(r\"(?<![A-Z])(?<!^)([A-Z])\",r\" \\1\", df[i])"
   ]
  },
  {
   "cell_type": "code",
   "execution_count": 11,
   "metadata": {
    "collapsed": true
   },
   "outputs": [],
   "source": [
    "df.to_csv(r'/Users/Hermione/nmt_data/oracledata_reverse/train/targetsall.txt', header=False, index=False,sep = \"\\t\")"
   ]
  },
  {
   "cell_type": "code",
   "execution_count": 75,
   "metadata": {},
   "outputs": [
    {
     "data": {
      "text/plain": [
       "0                      protected  Accessible Applet ( ) \n",
       "1       public  Accessible Role get Accessible Role ( ) \n",
       "2         public  Applet ( )  throws  Headless Exception\n",
       "3      public final void set Stub  (  Applet Stub stu...\n",
       "4                          public boolean is Active ( ) \n",
       "5                     public  URL get Document Base ( ) \n",
       "6                         public  URL get Code Base ( ) \n",
       "7        public  String get Parameter  (  String name ) \n",
       "8         public  Applet Context get Applet Context ( ) \n",
       "9       public void resize  ( int width ,  int height ) \n",
       "10                 public void resize  (  Dimension d ) \n",
       "11                  public boolean is Validate Root ( ) \n",
       "12             public void show Status  (  String msg ) \n",
       "13                public  Image get Image  (  URL url ) \n",
       "14     public  Image get Image  (  URL url ,   String...\n",
       "15     public static final  Audio Clip new Audio Clip...\n",
       "16      public  Audio Clip get Audio Clip  (  URL url ) \n",
       "17     public  Audio Clip get Audio Clip  (  URL url ...\n",
       "18                   public  String get Applet Info ( ) \n",
       "19                        public  Locale get Locale ( ) \n",
       "20          public  String [] [] get Parameter Info ( ) \n",
       "21                       public void play  (  URL url ) \n",
       "22       public void play  (  URL url ,   String name ) \n",
       "23                                 public void init ( ) \n",
       "24                                public void start ( ) \n",
       "25                                 public void stop ( ) \n",
       "26                              public void destroy ( ) \n",
       "27     public  Accessible Context get Accessible Cont...\n",
       "28              Audio Clip get Audio Clip  (  URL url ) \n",
       "29                        Image get Image  (  URL url ) \n",
       "                             ...                        \n",
       "170    public void ancestor Resized  (  Hierarchy Eve...\n",
       "171    public void mouse Wheel Moved  (  Mouse Wheel ...\n",
       "172    public static  Component Listener add  (  Comp...\n",
       "173    public static  Container Listener add  (  Cont...\n",
       "174    public static  Focus Listener add  (  Focus Li...\n",
       "175    public static  Key Listener add  (  Key Listen...\n",
       "176    public static  Mouse Listener add  (  Mouse Li...\n",
       "177    public static  Mouse Motion Listener add  (  M...\n",
       "178    public static  Window Listener add  (  Window ...\n",
       "179    public static  Window State Listener add  (  W...\n",
       "180    public static  Window Focus Listener add  (  W...\n",
       "181    public static  Action Listener add  (  Action ...\n",
       "182    public static  Item Listener add  (  Item List...\n",
       "183    public static  Adjustment Listener add  (  Adj...\n",
       "184    public static  Text Listener add  (  Text List...\n",
       "185    public static  Input Method Listener add  (  I...\n",
       "186    public static  Hierarchy Listener add  (  Hier...\n",
       "187    public static  Hierarchy Bounds Listener add  ...\n",
       "188    public static  Mouse Wheel Listener add  (  Mo...\n",
       "189    public static  Component Listener remove  (  C...\n",
       "190    public static  Container Listener remove  (  C...\n",
       "191    public static  Focus Listener remove  (  Focus...\n",
       "192    public static  Key Listener remove  (  Key Lis...\n",
       "193    public static  Mouse Listener remove  (  Mouse...\n",
       "194    public static  Mouse Motion Listener remove  (...\n",
       "195    public static  Window Listener remove  (  Wind...\n",
       "196    public static  Window State Listener remove  (...\n",
       "197    public static  Window Focus Listener remove  (...\n",
       "198    public static  Action Listener remove  (  Acti...\n",
       "199    public static  Item Listener remove  (  Item L...\n",
       "Name: utterance, dtype: object"
      ]
     },
     "execution_count": 75,
     "metadata": {},
     "output_type": "execute_result"
    }
   ],
   "source": [
    "\n"
   ]
  },
  {
   "cell_type": "code",
   "execution_count": 76,
   "metadata": {
    "collapsed": true
   },
   "outputs": [],
   "source": [
    "testsmall = pd.concat([train_source_small,df],axis = 1)\n",
    "test_old_small = testsmall.sample(40)\n",
    "test_source_old_small = test_old_small[\"context\"]\n",
    "test_target_old_small = test_old_small[\"utterance\"]\n",
    "test_source_old_small.to_csv(r'/Users/Hermione/nmt_data/oracledata_reverse/test/sourcessmall200.txt', header=False, index=False,sep = \"\\t\")\n",
    "test_target_old_small.to_csv(r'/Users/Hermione/nmt_data/oracledata_reverse/test/targetssmall200.txt', header=False, index=False,sep = \"\\t\")"
   ]
  },
  {
   "cell_type": "code",
   "execution_count": 78,
   "metadata": {
    "collapsed": true
   },
   "outputs": [],
   "source": [
    "df.to_csv(r'/Users/Hermione/nmt_data/oracledata_reverse/train/targetssmall200.txt', header=False, index=False,sep = \"\\t\")"
   ]
  },
  {
   "cell_type": "code",
   "execution_count": null,
   "metadata": {
    "collapsed": true
   },
   "outputs": [],
   "source": []
  }
 ],
 "metadata": {
  "kernelspec": {
   "display_name": "Python 3",
   "language": "python",
   "name": "python3"
  },
  "language_info": {
   "codemirror_mode": {
    "name": "ipython",
    "version": 3
   },
   "file_extension": ".py",
   "mimetype": "text/x-python",
   "name": "python",
   "nbconvert_exporter": "python",
   "pygments_lexer": "ipython3",
   "version": "3.6.0"
  }
 },
 "nbformat": 4,
 "nbformat_minor": 2
}
