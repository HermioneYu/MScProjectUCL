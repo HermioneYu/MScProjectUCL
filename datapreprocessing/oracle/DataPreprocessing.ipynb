{
 "cells": [
  {
   "cell_type": "code",
   "execution_count": 1,
   "metadata": {},
   "outputs": [
    {
     "name": "stdout",
     "output_type": "stream",
     "text": [
      "sources.txt\n",
      "sources41857.txt\n",
      "sourcesall.txt\n",
      "sourcessmall.txt\n",
      "sourcessmall200.txt\n",
      "targets.txt\n",
      "targets41857.txt\n",
      "targetsall.txt\n",
      "targetssmall.txt\n",
      "targetssmall200.txt\n",
      "vocab.sources.txt\n",
      "vocab.sources200.txt\n",
      "vocab.sourcesall.txt\n",
      "vocab.targets.txt\n",
      "vocab.targets200.txt\n",
      "vocab.targetsall.txt\n",
      "\n"
     ]
    }
   ],
   "source": [
    "import warnings\n",
    "warnings.filterwarnings('ignore')\n",
    "import csv\n",
    "import random\n",
    "import numpy as np\n",
    "\n",
    "\n",
    "import pandas as pd\n",
    "pd.options.display.max_columns = None\n",
    "pd.options.display.mpl_style = 'default'\n",
    "from nltk.tokenize import word_tokenize\n",
    "\n",
    "from subprocess import check_output\n",
    "print(check_output([\"ls\", \"/Users/Hermione/nmt_data/oracledata_reverse/train\"]).decode(\"utf8\"))"
   ]
  },
  {
   "cell_type": "code",
   "execution_count": 2,
   "metadata": {
    "collapsed": true
   },
   "outputs": [],
   "source": [
    "oracle_data = pd.read_csv(\"/Users/Hermione/MasterUCL/MScProject/athena/data/Oracle set description and methods.csv\")\n",
    "train_source = oracle_data.context\n",
    "train_target = oracle_data.utterance"
   ]
  },
  {
   "cell_type": "code",
   "execution_count": null,
   "metadata": {
    "collapsed": true,
    "scrolled": true
   },
   "outputs": [],
   "source": []
  },
  {
   "cell_type": "code",
   "execution_count": 6,
   "metadata": {
    "collapsed": true
   },
   "outputs": [],
   "source": [
    "df = train_source\n",
    "train_source.loc[~df.str.contains(r' \\(')] = train_source.str.replace('(',' ( ')\n",
    "train_source.loc[~df.str.contains(r' \\)')] = train_source.str.replace(')',' ) ')\n",
    "train_source.loc[~df.str.contains(r' \\,')] = train_source.str.replace(',',' , ')\n",
    "train_source.loc[~df.str.contains(r' \\_')] = train_source.str.replace('_',' _ ')\n",
    "train_source.loc[~df.str.contains(r' \\[')] = train_source.str.replace('[',' [ ')\n",
    "train_source.loc[~df.str.contains(r' \\]')] = train_source.str.replace(']',' ] ')\n",
    "train_source.loc[~df.str.contains(r' \\<')] = train_source.str.replace('<',' < ')\n",
    "train_source.loc[~df.str.contains(r' \\>')] = train_source.str.replace('>',' > ')\n",
    "train_source.loc[~df.str.contains(r' \\-')] = train_source.str.replace('-',' - ')\n",
    "train_source.loc[~df.str.contains(r' \\.')] = train_source.str.replace('.',' . ')"
   ]
  },
  {
   "cell_type": "code",
   "execution_count": 7,
   "metadata": {},
   "outputs": [
    {
     "data": {
      "text/plain": [
       "0                           Get the role of this object . \n",
       "1                          Get the state of this object . \n",
       "2        Constructs a new Applet .  Note: Many methods ...\n",
       "3        Sets this applet's stub .  This is done automa...\n",
       "4        Determines if this applet is active .  An appl...\n",
       "5        Gets the URL of the document in which this app...\n",
       "6        Gets the base URL .  This is the URL of the di...\n",
       "7        Returns the value of the named parameter in th...\n",
       "8        Determines this applet's context ,  which allo...\n",
       "9                  Requests that this applet be resized . \n",
       "10                 Requests that this applet be resized . \n",
       "11       Indicates if this container is a validate root...\n",
       "12       Requests that the argument string be displayed...\n",
       "13       Returns an Image object that can then be paint...\n",
       "14       Returns an Image object that can then be paint...\n",
       "15                 Get an audio clip from the given URL . \n",
       "16       Returns the AudioClip object specified by the ...\n",
       "17       Returns the AudioClip object specified by the ...\n",
       "18       Returns information about this applet .  An ap...\n",
       "19       Gets the locale of the applet .  It allows the...\n",
       "20       Returns information about the parameters that ...\n",
       "21       Plays the audio clip at the specified absolute...\n",
       "22       Plays the audio clip given the URL and a speci...\n",
       "23       Called by the browser or applet viewer to info...\n",
       "24       Called by the browser or applet viewer to info...\n",
       "25       Called by the browser or applet viewer to info...\n",
       "26       Called by the browser or applet viewer to info...\n",
       "27       Gets the AccessibleContext associated with thi...\n",
       "28                                Creates an audio clip . \n",
       "29       Returns an Image object that can then be paint...\n",
       "                               ...                        \n",
       "46477        Returns the value of the parameter byte P1 . \n",
       "46478        Returns the value of the parameter byte P2 . \n",
       "46479    Returns the number of data bytes in the comman...\n",
       "46480    Returns a copy of the data bytes in the comman...\n",
       "46481    Returns the maximum number of expected data by...\n",
       "46482          Returns a copy of the bytes in this APDU . \n",
       "46483    Returns a string representation of this comman...\n",
       "46484    Compares the specified object with this comman...\n",
       "46485    Returns the hash code value for this command A...\n",
       "46486    Constructs a ResponseAPDU from a byte array co...\n",
       "46487    Returns the number of data bytes in the respon...\n",
       "46488    Returns a copy of the data bytes in the respon...\n",
       "46489    Returns the value of the status byte SW1 as a ...\n",
       "46490    Returns the value of the status byte SW2 as a ...\n",
       "46491    Returns the value of the status bytes SW1 and ...\n",
       "46492          Returns a copy of the bytes in this APDU . \n",
       "46493    Returns a string representation of this respon...\n",
       "46494    Compares the specified object with this respon...\n",
       "46495    Returns the hash code value for this response ...\n",
       "46496    Get the default TerminalFactory type .  It is ...\n",
       "46497    Returns the default TerminalFactory instance ....\n",
       "46498    Returns a TerminalFactory of the specified typ...\n",
       "46499    Returns a TerminalFactory of the specified typ...\n",
       "46500    Returns a TerminalFactory of the specified typ...\n",
       "46501      Returns the provider of this TerminalFactory . \n",
       "46502    Returns the type of this TerminalFactory .  Th...\n",
       "46503    Returns a new CardTerminals object encapsulati...\n",
       "46504    Returns a string representation of this Termin...\n",
       "46505    Constructs a new TerminalFactorySpi object .  ...\n",
       "46506    Returns the CardTerminals created by this fact...\n",
       "Name: context, dtype: object"
      ]
     },
     "execution_count": 7,
     "metadata": {},
     "output_type": "execute_result"
    }
   ],
   "source": [
    "train_source"
   ]
  },
  {
   "cell_type": "code",
   "execution_count": 8,
   "metadata": {},
   "outputs": [
    {
     "data": {
      "text/plain": [
       "0                           protected AccessibleApplet ( )\n",
       "1              public AccessibleRole getAccessibleRole ( )\n",
       "2               public Applet ( ) throws HeadlessException\n",
       "3           public final void setStub ( AppletStub stub ) \n",
       "4                              public boolean isActive ( )\n",
       "5                           public URL getDocumentBase ( )\n",
       "6                               public URL getCodeBase ( )\n",
       "7              public String getParameter ( String name ) \n",
       "8                public AppletContext getAppletContext ( )\n",
       "9          public void resize ( int width ,  int height ) \n",
       "10                     public void resize ( Dimension d ) \n",
       "11                       public boolean isValidateRoot ( )\n",
       "12                  public void showStatus ( String msg ) \n",
       "13                      public Image getImage ( URL url ) \n",
       "14       public Image getImage ( URL url ,  String name ) \n",
       "15       public static final AudioClip newAudioClip ( U...\n",
       "16              public AudioClip getAudioClip ( URL url ) \n",
       "17       public AudioClip getAudioClip ( URL url ,  Str...\n",
       "18                         public String getAppletInfo ( )\n",
       "19                             public Locale getLocale ( )\n",
       "20              public String [ ] [ ] getParameterInfo ( )\n",
       "21                           public void play ( URL url ) \n",
       "22            public void play ( URL url ,  String name ) \n",
       "23                                    public void init ( )\n",
       "24                                   public void start ( )\n",
       "25                                    public void stop ( )\n",
       "26                                 public void destroy ( )\n",
       "27       public AccessibleContext getAccessibleContext ( )\n",
       "28                     AudioClip getAudioClip ( URL url ) \n",
       "29                             Image getImage ( URL url ) \n",
       "                               ...                        \n",
       "46477                                 public int getP1 ( )\n",
       "46478                                 public int getP2 ( )\n",
       "46479                                 public int getNc ( )\n",
       "46480                          public byte [ ] getData ( )\n",
       "46481                                 public int getNe ( )\n",
       "46482                         public byte [ ] getBytes ( )\n",
       "46483                           public String toString ( )\n",
       "46484                public boolean equals ( Object obj ) \n",
       "46485                              public int hashCode ( )\n",
       "46486               public ResponseAPDU ( byte [ ] apdu ) \n",
       "46487                                 public int getNr ( )\n",
       "46488                          public byte [ ] getData ( )\n",
       "46489                                public int getSW1 ( )\n",
       "46490                                public int getSW2 ( )\n",
       "46491                                 public int getSW ( )\n",
       "46492                         public byte [ ] getBytes ( )\n",
       "46493                           public String toString ( )\n",
       "46494                public boolean equals ( Object obj ) \n",
       "46495                              public int hashCode ( )\n",
       "46496              public static String getDefaultType ( )\n",
       "46497         public static TerminalFactory getDefault ( )\n",
       "46498    public static TerminalFactory getInstance ( St...\n",
       "46499    public static TerminalFactory getInstance ( St...\n",
       "46500    public static TerminalFactory getInstance ( St...\n",
       "46501                      public Provider getProvider ( )\n",
       "46502                            public String getType ( )\n",
       "46503                   public CardTerminals terminals ( )\n",
       "46504                           public String toString ( )\n",
       "46505                     protected TerminalFactorySpi ( )\n",
       "46506    protected abstract CardTerminals engineTermina...\n",
       "Name: utterance, dtype: object"
      ]
     },
     "execution_count": 8,
     "metadata": {},
     "output_type": "execute_result"
    }
   ],
   "source": [
    "df = train_target\n",
    "df.loc[~df.str.contains(r' \\( ')] = df.str.replace('(',' ( ')\n",
    "df.loc[~df.str.contains(r' \\)')] = df.str.replace(')',' ) ')\n",
    "df.loc[~df.str.contains(r' \\,')] = df.str.replace(',',' , ')\n",
    "df.loc[~df.str.contains(r' \\_')] = df.str.replace('_',' _ ')\n",
    "df.loc[~df.str.contains(r' \\[')] = df.str.replace('[',' [ ')\n",
    "df.loc[~df.str.contains(r' \\]')] = df.str.replace(']',' ] ')\n",
    "df.loc[~df.str.contains(r' \\<')] = df.str.replace('<',' < ')\n",
    "df.loc[~df.str.contains(r' \\>')] = df.str.replace('>',' > ')\n",
    "df"
   ]
  },
  {
   "cell_type": "code",
   "execution_count": 9,
   "metadata": {
    "collapsed": true
   },
   "outputs": [],
   "source": [
    "import re\n",
    "for i in range(len(df)):\n",
    "    df[i] = re.sub(r\"(?<![A-Z])(?<!^)([A-Z])\",r\" \\1\", df[i])"
   ]
  },
  {
   "cell_type": "code",
   "execution_count": 10,
   "metadata": {},
   "outputs": [
    {
     "data": {
      "text/plain": [
       "0                           Get the role of this object . \n",
       "1                          Get the state of this object . \n",
       "2        Constructs a new Applet .  Note: Many methods ...\n",
       "3        Sets this applet's stub .  This is done automa...\n",
       "4        Determines if this applet is active .  An appl...\n",
       "5        Gets the URL of the document in which this app...\n",
       "6        Gets the base URL .  This is the URL of the di...\n",
       "7        Returns the value of the named parameter in th...\n",
       "8        Determines this applet's context ,  which allo...\n",
       "9                  Requests that this applet be resized . \n",
       "10                 Requests that this applet be resized . \n",
       "11       Indicates if this container is a validate root...\n",
       "12       Requests that the argument string be displayed...\n",
       "13       Returns an Image object that can then be paint...\n",
       "14       Returns an Image object that can then be paint...\n",
       "15                 Get an audio clip from the given URL . \n",
       "16       Returns the AudioClip object specified by the ...\n",
       "17       Returns the AudioClip object specified by the ...\n",
       "18       Returns information about this applet .  An ap...\n",
       "19       Gets the locale of the applet .  It allows the...\n",
       "20       Returns information about the parameters that ...\n",
       "21       Plays the audio clip at the specified absolute...\n",
       "22       Plays the audio clip given the URL and a speci...\n",
       "23       Called by the browser or applet viewer to info...\n",
       "24       Called by the browser or applet viewer to info...\n",
       "25       Called by the browser or applet viewer to info...\n",
       "26       Called by the browser or applet viewer to info...\n",
       "27       Gets the AccessibleContext associated with thi...\n",
       "28                                Creates an audio clip . \n",
       "29       Returns an Image object that can then be paint...\n",
       "                               ...                        \n",
       "46477        Returns the value of the parameter byte P1 . \n",
       "46478        Returns the value of the parameter byte P2 . \n",
       "46479    Returns the number of data bytes in the comman...\n",
       "46480    Returns a copy of the data bytes in the comman...\n",
       "46481    Returns the maximum number of expected data by...\n",
       "46482          Returns a copy of the bytes in this APDU . \n",
       "46483    Returns a string representation of this comman...\n",
       "46484    Compares the specified object with this comman...\n",
       "46485    Returns the hash code value for this command A...\n",
       "46486    Constructs a ResponseAPDU from a byte array co...\n",
       "46487    Returns the number of data bytes in the respon...\n",
       "46488    Returns a copy of the data bytes in the respon...\n",
       "46489    Returns the value of the status byte SW1 as a ...\n",
       "46490    Returns the value of the status byte SW2 as a ...\n",
       "46491    Returns the value of the status bytes SW1 and ...\n",
       "46492          Returns a copy of the bytes in this APDU . \n",
       "46493    Returns a string representation of this respon...\n",
       "46494    Compares the specified object with this respon...\n",
       "46495    Returns the hash code value for this response ...\n",
       "46496    Get the default TerminalFactory type .  It is ...\n",
       "46497    Returns the default TerminalFactory instance ....\n",
       "46498    Returns a TerminalFactory of the specified typ...\n",
       "46499    Returns a TerminalFactory of the specified typ...\n",
       "46500    Returns a TerminalFactory of the specified typ...\n",
       "46501      Returns the provider of this TerminalFactory . \n",
       "46502    Returns the type of this TerminalFactory .  Th...\n",
       "46503    Returns a new CardTerminals object encapsulati...\n",
       "46504    Returns a string representation of this Termin...\n",
       "46505    Constructs a new TerminalFactorySpi object .  ...\n",
       "46506    Returns the CardTerminals created by this fact...\n",
       "Name: context, dtype: object"
      ]
     },
     "execution_count": 10,
     "metadata": {},
     "output_type": "execute_result"
    }
   ],
   "source": [
    "\n",
    "train_source"
   ]
  },
  {
   "cell_type": "code",
   "execution_count": 11,
   "metadata": {
    "collapsed": true
   },
   "outputs": [],
   "source": [
    "test_source = train_source.sample(4650)"
   ]
  },
  {
   "cell_type": "code",
   "execution_count": 12,
   "metadata": {
    "collapsed": true
   },
   "outputs": [],
   "source": [
    "trainsourcepossample=train_source.drop(test_source.index)"
   ]
  },
  {
   "cell_type": "code",
   "execution_count": 13,
   "metadata": {},
   "outputs": [
    {
     "data": {
      "text/plain": [
       "41857"
      ]
     },
     "execution_count": 13,
     "metadata": {},
     "output_type": "execute_result"
    }
   ],
   "source": [
    "trainsourcepossample.size"
   ]
  },
  {
   "cell_type": "code",
   "execution_count": 14,
   "metadata": {
    "collapsed": true
   },
   "outputs": [],
   "source": [
    "test_target = train_target.iloc[test_source.index]"
   ]
  },
  {
   "cell_type": "code",
   "execution_count": 15,
   "metadata": {
    "collapsed": true
   },
   "outputs": [],
   "source": [
    "traintargetpossample=train_target.drop(test_source.index)"
   ]
  },
  {
   "cell_type": "code",
   "execution_count": null,
   "metadata": {},
   "outputs": [],
   "source": [
    "\n"
   ]
  },
  {
   "cell_type": "code",
   "execution_count": 21,
   "metadata": {
    "collapsed": true
   },
   "outputs": [],
   "source": [
    "test_source.to_csv(r'/Users/Hermione/nmt_data/oracledata_reverse/test/sourcesfinal4650.txt', header=False, index=False,sep = \"\\t\")\n",
    "test_target.to_csv(r'/Users/Hermione/nmt_data/oracledata_reverse/test/targetsfinal4650.txt', header=False, index=False,sep = \"\\t\")\n",
    "trainsourcepossample.to_csv(r'/Users/Hermione/nmt_data/oracledata_reverse/train/sourcessmallfinal41857.txt', header=False, index=False,sep = \"\\t\")\n",
    "traintargetpossample.to_csv(r'/Users/Hermione/nmt_data/oracledata_reverse/train/targetssmallfinal41857.txt', header=False, index=False,sep = \"\\t\")"
   ]
  },
  {
   "cell_type": "code",
   "execution_count": null,
   "metadata": {
    "collapsed": true
   },
   "outputs": [],
   "source": []
  }
 ],
 "metadata": {
  "kernelspec": {
   "display_name": "Python 3",
   "language": "python",
   "name": "python3"
  },
  "language_info": {
   "codemirror_mode": {
    "name": "ipython",
    "version": 3
   },
   "file_extension": ".py",
   "mimetype": "text/x-python",
   "name": "python",
   "nbconvert_exporter": "python",
   "pygments_lexer": "ipython3",
   "version": "3.6.0"
  }
 },
 "nbformat": 4,
 "nbformat_minor": 2
}
